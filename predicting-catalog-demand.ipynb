{
 "cells": [
  {
   "cell_type": "markdown",
   "metadata": {},
   "source": [
    "# Predicting Catalog Demand\n",
    "\n"
   ]
  },
  {
   "cell_type": "markdown",
   "metadata": {},
   "source": [
    "## Business and Data Understanding\n",
    "\n",
    "A company manufactures and sells high-end home goods. Last year it sent out its first print catalogue and is preparing to send out the new catalog for the year. From the mailing list the company has 250 new customers they would like to send the catalogue to. The company wants to determine how much profit can be expected from sending the catalogue to these customers. Management has set a profit threshold of $10,000. If the expected profits meet or exceed this threshold, then the catalogue will be sent.\n",
    "\n",
    "Key Decisions:\n",
    "\n",
    "1. **What decisions needs to be made?**\n",
    "\n",
    "    Whether or not the print catalog should be sent to the 250 new customers within the mailing list. This is dependent on whether the estimated profit meets and/or exceeds \\\\$10,000. If the value is below \\\\$10,000, the catalog will not be sent to those 250 customers.\n",
    "\n",
    "\n",
    "2. **What data is needed to inform those decisions?**\n",
    "    * For each of the 250 new customers we will need to estimate the average sale amount.\n",
    "    * Then the expected revenue can be calculated by multiplying average sale amount with the score value metric, which acts as the probability the customer will respond to the catalog. \n",
    "    * The average gross margin is 0.5. The price of printing and sending each catalog is $6.50 so this is then subtracted from the expected revenue times the average gross margin. \n",
    "    * These values are then summed to give the final expected profits.\n",
    "    \n",
    "$$Expected Profit = \\sum_{i=1}^{n} Average Sale Amount_i * Score_i * Gross Margin - Cost$$"
   ]
  },
  {
   "cell_type": "code",
   "execution_count": 1,
   "metadata": {},
   "outputs": [
    {
     "data": {
      "text/html": [
       "<div>\n",
       "<style scoped>\n",
       "    .dataframe tbody tr th:only-of-type {\n",
       "        vertical-align: middle;\n",
       "    }\n",
       "\n",
       "    .dataframe tbody tr th {\n",
       "        vertical-align: top;\n",
       "    }\n",
       "\n",
       "    .dataframe thead th {\n",
       "        text-align: right;\n",
       "    }\n",
       "</style>\n",
       "<table border=\"1\" class=\"dataframe\">\n",
       "  <thead>\n",
       "    <tr style=\"text-align: right;\">\n",
       "      <th></th>\n",
       "      <th>Name</th>\n",
       "      <th>Customer_Segment</th>\n",
       "      <th>Customer_ID</th>\n",
       "      <th>Address</th>\n",
       "      <th>City</th>\n",
       "      <th>State</th>\n",
       "      <th>ZIP</th>\n",
       "      <th>Avg_Sale_Amount</th>\n",
       "      <th>Store_Number</th>\n",
       "      <th>Responded_to_Last_Catalog</th>\n",
       "      <th>Avg_Num_Products_Purchased</th>\n",
       "      <th>#_Years_as_Customer</th>\n",
       "    </tr>\n",
       "  </thead>\n",
       "  <tbody>\n",
       "    <tr>\n",
       "      <td>0</td>\n",
       "      <td>Pamela Wright</td>\n",
       "      <td>Store Mailing List</td>\n",
       "      <td>2</td>\n",
       "      <td>376 S Jasmine St</td>\n",
       "      <td>Denver</td>\n",
       "      <td>CO</td>\n",
       "      <td>80224</td>\n",
       "      <td>227.90</td>\n",
       "      <td>100</td>\n",
       "      <td>No</td>\n",
       "      <td>1</td>\n",
       "      <td>6</td>\n",
       "    </tr>\n",
       "    <tr>\n",
       "      <td>1</td>\n",
       "      <td>Danell Valdez</td>\n",
       "      <td>Store Mailing List</td>\n",
       "      <td>7</td>\n",
       "      <td>12066 E Lake Cir</td>\n",
       "      <td>Greenwood Village</td>\n",
       "      <td>CO</td>\n",
       "      <td>80111</td>\n",
       "      <td>55.00</td>\n",
       "      <td>105</td>\n",
       "      <td>Yes</td>\n",
       "      <td>1</td>\n",
       "      <td>6</td>\n",
       "    </tr>\n",
       "    <tr>\n",
       "      <td>2</td>\n",
       "      <td>Jessica Rinehart</td>\n",
       "      <td>Store Mailing List</td>\n",
       "      <td>8</td>\n",
       "      <td>7225 S Gaylord St</td>\n",
       "      <td>Centennial</td>\n",
       "      <td>CO</td>\n",
       "      <td>80122</td>\n",
       "      <td>212.57</td>\n",
       "      <td>101</td>\n",
       "      <td>No</td>\n",
       "      <td>1</td>\n",
       "      <td>3</td>\n",
       "    </tr>\n",
       "    <tr>\n",
       "      <td>3</td>\n",
       "      <td>Nancy Clark</td>\n",
       "      <td>Store Mailing List</td>\n",
       "      <td>9</td>\n",
       "      <td>4497 Cornish Way</td>\n",
       "      <td>Denver</td>\n",
       "      <td>CO</td>\n",
       "      <td>80239</td>\n",
       "      <td>195.31</td>\n",
       "      <td>105</td>\n",
       "      <td>Yes</td>\n",
       "      <td>1</td>\n",
       "      <td>6</td>\n",
       "    </tr>\n",
       "    <tr>\n",
       "      <td>4</td>\n",
       "      <td>Andrea Brun</td>\n",
       "      <td>Store Mailing List</td>\n",
       "      <td>10</td>\n",
       "      <td>2316 E 5th Ave</td>\n",
       "      <td>Denver</td>\n",
       "      <td>CO</td>\n",
       "      <td>80206</td>\n",
       "      <td>110.55</td>\n",
       "      <td>100</td>\n",
       "      <td>Yes</td>\n",
       "      <td>1</td>\n",
       "      <td>2</td>\n",
       "    </tr>\n",
       "  </tbody>\n",
       "</table>\n",
       "</div>"
      ],
      "text/plain": [
       "               Name    Customer_Segment  Customer_ID            Address  \\\n",
       "0     Pamela Wright  Store Mailing List            2   376 S Jasmine St   \n",
       "1     Danell Valdez  Store Mailing List            7   12066 E Lake Cir   \n",
       "2  Jessica Rinehart  Store Mailing List            8  7225 S Gaylord St   \n",
       "3       Nancy Clark  Store Mailing List            9   4497 Cornish Way   \n",
       "4       Andrea Brun  Store Mailing List           10     2316 E 5th Ave   \n",
       "\n",
       "                City State    ZIP  Avg_Sale_Amount  Store_Number  \\\n",
       "0             Denver    CO  80224           227.90           100   \n",
       "1  Greenwood Village    CO  80111            55.00           105   \n",
       "2         Centennial    CO  80122           212.57           101   \n",
       "3             Denver    CO  80239           195.31           105   \n",
       "4             Denver    CO  80206           110.55           100   \n",
       "\n",
       "  Responded_to_Last_Catalog  Avg_Num_Products_Purchased  #_Years_as_Customer  \n",
       "0                        No                           1                    6  \n",
       "1                       Yes                           1                    6  \n",
       "2                        No                           1                    3  \n",
       "3                       Yes                           1                    6  \n",
       "4                       Yes                           1                    2  "
      ]
     },
     "metadata": {},
     "output_type": "display_data"
    },
    {
     "data": {
      "text/html": [
       "<div>\n",
       "<style scoped>\n",
       "    .dataframe tbody tr th:only-of-type {\n",
       "        vertical-align: middle;\n",
       "    }\n",
       "\n",
       "    .dataframe tbody tr th {\n",
       "        vertical-align: top;\n",
       "    }\n",
       "\n",
       "    .dataframe thead th {\n",
       "        text-align: right;\n",
       "    }\n",
       "</style>\n",
       "<table border=\"1\" class=\"dataframe\">\n",
       "  <thead>\n",
       "    <tr style=\"text-align: right;\">\n",
       "      <th></th>\n",
       "      <th>Name</th>\n",
       "      <th>Customer_Segment</th>\n",
       "      <th>Customer_ID</th>\n",
       "      <th>Address</th>\n",
       "      <th>City</th>\n",
       "      <th>State</th>\n",
       "      <th>ZIP</th>\n",
       "      <th>Store_Number</th>\n",
       "      <th>Avg_Num_Products_Purchased</th>\n",
       "      <th>#_Years_as_Customer</th>\n",
       "      <th>Score_No</th>\n",
       "      <th>Score_Yes</th>\n",
       "    </tr>\n",
       "  </thead>\n",
       "  <tbody>\n",
       "    <tr>\n",
       "      <td>0</td>\n",
       "      <td>A Giametti</td>\n",
       "      <td>Loyalty Club Only</td>\n",
       "      <td>2213</td>\n",
       "      <td>5326 S Lisbon Way</td>\n",
       "      <td>Centennial</td>\n",
       "      <td>CO</td>\n",
       "      <td>80015</td>\n",
       "      <td>105</td>\n",
       "      <td>3</td>\n",
       "      <td>0.2</td>\n",
       "      <td>0.694964</td>\n",
       "      <td>0.305036</td>\n",
       "    </tr>\n",
       "    <tr>\n",
       "      <td>1</td>\n",
       "      <td>Abby Pierson</td>\n",
       "      <td>Loyalty Club and Credit Card</td>\n",
       "      <td>2785</td>\n",
       "      <td>4344 W Roanoke Pl</td>\n",
       "      <td>Denver</td>\n",
       "      <td>CO</td>\n",
       "      <td>80236</td>\n",
       "      <td>101</td>\n",
       "      <td>6</td>\n",
       "      <td>0.6</td>\n",
       "      <td>0.527275</td>\n",
       "      <td>0.472725</td>\n",
       "    </tr>\n",
       "    <tr>\n",
       "      <td>2</td>\n",
       "      <td>Adele Hallman</td>\n",
       "      <td>Loyalty Club Only</td>\n",
       "      <td>2931</td>\n",
       "      <td>5219 S Delaware St</td>\n",
       "      <td>Englewood</td>\n",
       "      <td>CO</td>\n",
       "      <td>80110</td>\n",
       "      <td>101</td>\n",
       "      <td>7</td>\n",
       "      <td>0.9</td>\n",
       "      <td>0.421118</td>\n",
       "      <td>0.578882</td>\n",
       "    </tr>\n",
       "    <tr>\n",
       "      <td>3</td>\n",
       "      <td>Alejandra Baird</td>\n",
       "      <td>Loyalty Club Only</td>\n",
       "      <td>2231</td>\n",
       "      <td>2301 Lawrence St</td>\n",
       "      <td>Denver</td>\n",
       "      <td>CO</td>\n",
       "      <td>80205</td>\n",
       "      <td>103</td>\n",
       "      <td>2</td>\n",
       "      <td>0.6</td>\n",
       "      <td>0.694862</td>\n",
       "      <td>0.305138</td>\n",
       "    </tr>\n",
       "    <tr>\n",
       "      <td>4</td>\n",
       "      <td>Alice Dewitt</td>\n",
       "      <td>Loyalty Club Only</td>\n",
       "      <td>2530</td>\n",
       "      <td>5549 S Hannibal Way</td>\n",
       "      <td>Centennial</td>\n",
       "      <td>CO</td>\n",
       "      <td>80015</td>\n",
       "      <td>104</td>\n",
       "      <td>4</td>\n",
       "      <td>0.5</td>\n",
       "      <td>0.612294</td>\n",
       "      <td>0.387706</td>\n",
       "    </tr>\n",
       "  </tbody>\n",
       "</table>\n",
       "</div>"
      ],
      "text/plain": [
       "              Name              Customer_Segment  Customer_ID  \\\n",
       "0       A Giametti             Loyalty Club Only         2213   \n",
       "1     Abby Pierson  Loyalty Club and Credit Card         2785   \n",
       "2    Adele Hallman             Loyalty Club Only         2931   \n",
       "3  Alejandra Baird             Loyalty Club Only         2231   \n",
       "4     Alice Dewitt             Loyalty Club Only         2530   \n",
       "\n",
       "               Address        City State    ZIP  Store_Number  \\\n",
       "0    5326 S Lisbon Way  Centennial    CO  80015           105   \n",
       "1    4344 W Roanoke Pl      Denver    CO  80236           101   \n",
       "2   5219 S Delaware St   Englewood    CO  80110           101   \n",
       "3     2301 Lawrence St      Denver    CO  80205           103   \n",
       "4  5549 S Hannibal Way  Centennial    CO  80015           104   \n",
       "\n",
       "   Avg_Num_Products_Purchased  #_Years_as_Customer  Score_No  Score_Yes  \n",
       "0                           3                  0.2  0.694964   0.305036  \n",
       "1                           6                  0.6  0.527275   0.472725  \n",
       "2                           7                  0.9  0.421118   0.578882  \n",
       "3                           2                  0.6  0.694862   0.305138  \n",
       "4                           4                  0.5  0.612294   0.387706  "
      ]
     },
     "metadata": {},
     "output_type": "display_data"
    }
   ],
   "source": [
    "import pandas as pd\n",
    "import numpy as np\n",
    "\n",
    "import matplotlib.pyplot as plt\n",
    "import seaborn as sns\n",
    "\n",
    "import statsmodels.api as sm\n",
    "from patsy import dmatrices\n",
    "\n",
    "# Load datasets\n",
    "cust_df=pd.read_excel('data/p1-customers.xlsx')\n",
    "mail_df=pd.read_excel('data/p1-mailinglist.xlsx')\n",
    "# Minor cleaning of variables\n",
    "cust_df[['ZIP','Store_Number']] = cust_df[['ZIP','Store_Number']].astype('str')\n",
    "mail_df[['ZIP','Store_Number']] = mail_df[['ZIP','Store_Number']].astype('str')\n",
    "\n",
    "display(cust_df.head())\n",
    "display(mail_df.head())"
   ]
  },
  {
   "cell_type": "markdown",
   "metadata": {},
   "source": [
    "## Analysis, Modeling, and Validation"
   ]
  },
  {
   "cell_type": "code",
   "execution_count": 20,
   "metadata": {},
   "outputs": [
    {
     "data": {
      "image/png": "[encoded data removed]",
      "text/plain": [
       "<Figure size 432x288 with 1 Axes>"
      ]
     },
     "metadata": {
      "needs_background": "light"
     },
     "output_type": "display_data"
    }
   ],
   "source": [
    "sns.regplot(x='Avg_Num_Products_Purchased',y='Avg_Sale_Amount', data=cust_df)\n",
    "plt.title('Average_Number_of_Products_Purchased relationship with Average_Sale_Amount')\n",
    "plt.show()"
   ]
  },
  {
   "cell_type": "code",
   "execution_count": 21,
   "metadata": {},
   "outputs": [
    {
     "data": {
      "image/png": "[encoded data removed]",
      "text/plain": [
       "<Figure size 360x360 with 1 Axes>"
      ]
     },
     "metadata": {
      "needs_background": "light"
     },
     "output_type": "display_data"
    }
   ],
   "source": [
    "sns.catplot(y='Customer_Segment',x='Avg_Sale_Amount', orient='h', kind=\"box\", data=cust_df)\n",
    "plt.title('Customer segments plotted against Average_Sale_Amount')\n",
    "plt.show()"
   ]
  },
  {
   "cell_type": "code",
   "execution_count": 2,
   "metadata": {
    "scrolled": false
   },
   "outputs": [
    {
     "name": "stdout",
     "output_type": "stream",
     "text": [
      "                                 OLS Regression Results                                \n",
      "=======================================================================================\n",
      "Dep. Variable:        Avg_Sale_Amount   R-squared (uncentered):                   0.908\n",
      "Model:                            OLS   Adj. R-squared (uncentered):              0.908\n",
      "Method:                 Least Squares   F-statistic:                              5832.\n",
      "Date:                Wed, 29 Apr 2020   Prob (F-statistic):                        0.00\n",
      "Time:                        23:45:02   Log-Likelihood:                         -15415.\n",
      "No. Observations:                2375   AIC:                                  3.084e+04\n",
      "Df Residuals:                    2371   BIC:                                  3.086e+04\n",
      "Df Model:                           4                                                  \n",
      "Covariance Type:            nonrobust                                                  \n",
      "=================================================================================================================\n",
      "                                                    coef    std err          t      P>|t|      [0.025      0.975]\n",
      "-----------------------------------------------------------------------------------------------------------------\n",
      "Avg_Num_Products_Purchased                      102.2377      1.028     99.415      0.000     100.221     104.254\n",
      "Customer_Segment_Loyalty Club Only               26.5817      7.603      3.496      0.000      11.673      41.490\n",
      "Customer_Segment_Loyalty Club and Credit Card   327.9296     13.696     23.944      0.000     301.073     354.786\n",
      "Customer_Segment_Store Mailing List               5.7581      5.030      1.145      0.252      -4.106      15.622\n",
      "==============================================================================\n",
      "Omnibus:                      258.834   Durbin-Watson:                   1.776\n",
      "Prob(Omnibus):                  0.000   Jarque-Bera (JB):             2043.923\n",
      "Skew:                          -0.167   Prob(JB):                         0.00\n",
      "Kurtosis:                       7.532   Cond. No.                         18.5\n",
      "==============================================================================\n",
      "\n",
      "Warnings:\n",
      "[1] Standard Errors assume that the covariance matrix of the errors is correctly specified.\n"
     ]
    }
   ],
   "source": [
    "\n",
    "# Get the dependent variable\n",
    "y = cust_df['Avg_Sale_Amount']\n",
    "# Get the predictor variables \n",
    "choice = ['Customer_Segment','Avg_Num_Products_Purchased']\n",
    "# Dummify variables\n",
    "X = pd.get_dummies(cust_df[choice], columns=['Customer_Segment'], drop_first=True)\n",
    "# Fit the linear model\n",
    "mod = sm.OLS(y, X)\n",
    "res = mod.fit()\n",
    "print(res.summary())"
   ]
  },
  {
   "cell_type": "code",
   "execution_count": 3,
   "metadata": {},
   "outputs": [
    {
     "data": {
      "text/html": [
       "<div>\n",
       "<style scoped>\n",
       "    .dataframe tbody tr th:only-of-type {\n",
       "        vertical-align: middle;\n",
       "    }\n",
       "\n",
       "    .dataframe tbody tr th {\n",
       "        vertical-align: top;\n",
       "    }\n",
       "\n",
       "    .dataframe thead th {\n",
       "        text-align: right;\n",
       "    }\n",
       "</style>\n",
       "<table border=\"1\" class=\"dataframe\">\n",
       "  <thead>\n",
       "    <tr style=\"text-align: right;\">\n",
       "      <th></th>\n",
       "      <th>Customer_Segment</th>\n",
       "      <th>Avg_Num_Products_Purchased</th>\n",
       "      <th>Score_No</th>\n",
       "      <th>Score_Yes</th>\n",
       "      <th>Predicted_Avg_Sale_Amount</th>\n",
       "    </tr>\n",
       "  </thead>\n",
       "  <tbody>\n",
       "    <tr>\n",
       "      <td>0</td>\n",
       "      <td>Loyalty Club Only</td>\n",
       "      <td>3</td>\n",
       "      <td>0.694964</td>\n",
       "      <td>0.305036</td>\n",
       "      <td>101.666852</td>\n",
       "    </tr>\n",
       "    <tr>\n",
       "      <td>1</td>\n",
       "      <td>Loyalty Club and Credit Card</td>\n",
       "      <td>6</td>\n",
       "      <td>0.527275</td>\n",
       "      <td>0.472725</td>\n",
       "      <td>445.002012</td>\n",
       "    </tr>\n",
       "    <tr>\n",
       "      <td>2</td>\n",
       "      <td>Loyalty Club Only</td>\n",
       "      <td>7</td>\n",
       "      <td>0.421118</td>\n",
       "      <td>0.578882</td>\n",
       "      <td>429.672543</td>\n",
       "    </tr>\n",
       "    <tr>\n",
       "      <td>3</td>\n",
       "      <td>Loyalty Club Only</td>\n",
       "      <td>2</td>\n",
       "      <td>0.694862</td>\n",
       "      <td>0.305138</td>\n",
       "      <td>70.504258</td>\n",
       "    </tr>\n",
       "    <tr>\n",
       "      <td>4</td>\n",
       "      <td>Loyalty Club Only</td>\n",
       "      <td>4</td>\n",
       "      <td>0.612294</td>\n",
       "      <td>0.387706</td>\n",
       "      <td>168.858510</td>\n",
       "    </tr>\n",
       "  </tbody>\n",
       "</table>\n",
       "</div>"
      ],
      "text/plain": [
       "               Customer_Segment  Avg_Num_Products_Purchased  Score_No  \\\n",
       "0             Loyalty Club Only                           3  0.694964   \n",
       "1  Loyalty Club and Credit Card                           6  0.527275   \n",
       "2             Loyalty Club Only                           7  0.421118   \n",
       "3             Loyalty Club Only                           2  0.694862   \n",
       "4             Loyalty Club Only                           4  0.612294   \n",
       "\n",
       "   Score_Yes  Predicted_Avg_Sale_Amount  \n",
       "0   0.305036                 101.666852  \n",
       "1   0.472725                 445.002012  \n",
       "2   0.578882                 429.672543  \n",
       "3   0.305138                  70.504258  \n",
       "4   0.387706                 168.858510  "
      ]
     },
     "execution_count": 3,
     "metadata": {},
     "output_type": "execute_result"
    }
   ],
   "source": [
    "m_variables = ['Customer_Segment', 'Avg_Num_Products_Purchased']\n",
    "probs = mail_df[['Score_No','Score_Yes']]\n",
    "X_mail = mail_df[m_variables]\n",
    "# Get dummy variables\n",
    "X_mail = pd.get_dummies(X_mail, columns=['Customer_Segment'], drop_first=True)\n",
    "# Build final dataframe 'mail_dff'\n",
    "mail_dff = mail_df[['Customer_Segment','Avg_Num_Products_Purchased','Score_No','Score_Yes']].copy()\n",
    "mail_dff['Predicted_Avg_Sale_Amount'] = res.predict(X_mail)\n",
    "mail_dff['Predicted_Avg_Sale_Amount'] = mail_dff['Predicted_Avg_Sale_Amount'] * mail_dff['Score_Yes']\n",
    "mail_dff.head()"
   ]
  },
  {
   "cell_type": "code",
   "execution_count": 22,
   "metadata": {},
   "outputs": [
    {
     "data": {
      "image/png": "[encoded data removed]",
      "text/plain": [
       "<Figure size 432x288 with 1 Axes>"
      ]
     },
     "metadata": {
      "needs_background": "light"
     },
     "output_type": "display_data"
    }
   ],
   "source": [
    "sns.regplot(x='Avg_Num_Products_Purchased',y='Predicted_Avg_Sale_Amount', x_jitter=0.5, data=mail_dff)\n",
    "plt.show()"
   ]
  },
  {
   "cell_type": "markdown",
   "metadata": {},
   "source": [
    "## Estimating Profits"
   ]
  },
  {
   "cell_type": "code",
   "execution_count": 5,
   "metadata": {},
   "outputs": [
    {
     "name": "stdout",
     "output_type": "stream",
     "text": [
      "From the model, we can expect a total profit of: $20852.09\n"
     ]
    }
   ],
   "source": [
    "gross_margin = 0.5 # average gross margin\n",
    "cost = 6.50 # Cost of printing and sending catalog\n",
    "mail_dff['Expected_Profit'] = (mail_dff['Predicted_Avg_Sale_Amount'] * gross_margin) - cost\n",
    "expected_profit = round(mail_dff['Expected_Profit'].sum(),2)\n",
    "print(f\"From the model, we can expect a total profit of: ${expected_profit}\")"
   ]
  }
 ],
 "metadata": {
  "kernelspec": {
   "display_name": "Python 3",
   "language": "python",
   "name": "python3"
  },
  "language_info": {
   "codemirror_mode": {
    "name": "ipython",
    "version": 3
   },
   "file_extension": ".py",
   "mimetype": "text/x-python",
   "name": "python",
   "nbconvert_exporter": "python",
   "pygments_lexer": "ipython3",
   "version": "3.6.9"
  }
 },
 "nbformat": 4,
 "nbformat_minor": 2
}
